{
  "nbformat": 4,
  "nbformat_minor": 0,
  "metadata": {
    "colab": {
      "provenance": [],
      "authorship_tag": "ABX9TyNduApeGx/6izG/H/2MDJl2",
      "include_colab_link": true
    },
    "kernelspec": {
      "name": "python3",
      "display_name": "Python 3"
    },
    "language_info": {
      "name": "python"
    }
  },
  "cells": [
    {
      "cell_type": "markdown",
      "metadata": {
        "id": "view-in-github",
        "colab_type": "text"
      },
      "source": [
        "<a href=\"https://colab.research.google.com/github/Anand-Deekshit/Model-Photosphere/blob/main/Model_Photosphere_(Na_I_D_line).ipynb\" target=\"_parent\"><img src=\"https://colab.research.google.com/assets/colab-badge.svg\" alt=\"Open In Colab\"/></a>"
      ]
    },
    {
      "cell_type": "markdown",
      "source": [
        "# MODEL PHOTOSPHERE (Line Profile for Na I D)"
      ],
      "metadata": {
        "id": "3i6W8LBHmy1W"
      }
    },
    {
      "cell_type": "markdown",
      "source": [
        "# a) Plotting the Na I D line for solar gravity star"
      ],
      "metadata": {
        "id": "3R2BfuRxAu07"
      }
    },
    {
      "cell_type": "markdown",
      "source": [
        "## Import the required libraries and the properties of the star with Solar Gravity"
      ],
      "metadata": {
        "id": "SV-Qa6oVnBht"
      }
    },
    {
      "cell_type": "code",
      "source": [
        "!pip install exojax"
      ],
      "metadata": {
        "id": "94MCAanZpeln"
      },
      "execution_count": null,
      "outputs": []
    },
    {
      "cell_type": "code",
      "source": [
        "import pandas as pd\n",
        "import matplotlib.pyplot as plt\n",
        "import math\n",
        "import numpy as np\n",
        "from matplotlib.pyplot import cm\n",
        "from scipy import interpolate\n",
        "import numpy as np\n",
        "import scipy.integrate as integrate\n",
        "from scipy.integrate import quad\n",
        "import scipy.special as special\n",
        "import math\n",
        "from exojax.spec import hjert\n",
        "from IPython.display import set_matplotlib_formats\n",
        "set_matplotlib_formats('pdf', 'svg')"
      ],
      "metadata": {
        "id": "2Wdj-D62FjoW"
      },
      "execution_count": null,
      "outputs": []
    },
    {
      "cell_type": "code",
      "execution_count": null,
      "metadata": {
        "id": "gx0wFTTXxnKj"
      },
      "outputs": [],
      "source": [
        "\n",
        "K = 1.38 * 10 ** (-16)\n",
        "log_g = 4.44\n",
        "metallicity = 0\n",
        "g = 10 ** log_g\n"
      ]
    },
    {
      "cell_type": "markdown",
      "source": [
        "## Read the grid from the file and store the mass and temperatures"
      ],
      "metadata": {
        "id": "VwafteftnKeA"
      }
    },
    {
      "cell_type": "code",
      "source": [
        "with open('kurucz.txt') as f:\n",
        "  lines = f.readlines()\n",
        "\n",
        "masses = []\n",
        "temps = []\n",
        "for line in lines[2:]:\n",
        "  masses.append(float(line.split(\"       \")[0]))\n",
        "  temps.append(float(line.split(\"       \")[1][:-1]))\n"
      ],
      "metadata": {
        "id": "YatB75x8y3i8"
      },
      "execution_count": null,
      "outputs": []
    },
    {
      "cell_type": "markdown",
      "source": [
        "## The Total Pressure is the mass column times g and the radiation pressure is given by the temperature. The radiation pressure is extremely small so you can ignore it if you want to. We can get P$_g$ by subtracting the radiation pressure from the total pressure."
      ],
      "metadata": {
        "id": "9V9HQWo4nSKO"
      }
    },
    {
      "cell_type": "code",
      "source": [
        "total_p = []\n",
        "radiation_p = []\n",
        "\n",
        "for mass in masses:\n",
        "  total_p.append(mass * g)\n",
        "\n",
        "for temp in temps:\n",
        "  radiation_p.append(2.52 * 10 ** (-15) * temp ** 4)\n",
        "\n",
        "P_g = [total_p[i] - radiation_p[i] for i in range(len(total_p))]"
      ],
      "metadata": {
        "id": "5g3w4ZKkQlDd"
      },
      "execution_count": null,
      "outputs": []
    },
    {
      "cell_type": "markdown",
      "source": [
        "## Input all the partition function values, abundances and the ionization potentials for the elements of interest."
      ],
      "metadata": {
        "id": "YvWTPAx0oc_M"
      }
    },
    {
      "cell_type": "code",
      "source": [
        "\n",
        "element_name = {\n",
        "    'H': 'Hydrogen',\n",
        "    'He': 'Helium',\n",
        "    'C': 'Carbon',\n",
        "    'Si': 'Silicon',\n",
        "    'Fe': 'Iron',\n",
        "    'Mg': 'Magnesium',\n",
        "    'Ni': 'Nickle',\n",
        "    'Cr': 'Chromium',\n",
        "    'Ca': 'Calcium',\n",
        "    'K': 'Potassium',\n",
        "    'Na': 'Sodium'\n",
        "}\n",
        "\n",
        "log_partition_fn = {\n",
        "    'H-': {1.4: 0, 1.2: 0, 1.0: 0, 0.8: 0, 0.6: 0, 0.4: 0},\n",
        "    'H': {1.4: 0.301, 1.2: 0.301, 1.0: 0.301, 0.8: 0.301, 0.6: 0.301, 0.4: 0.303},\n",
        "    'H+': {1.4: 0, 1.2: 0, 1.0: 0, 0.8: 0, 0.6: 0, 0.4: 0},\n",
        "    'He': {1.4: 0, 1.2: 0, 1.0: 0, 0.8: 0, 0.6: 0, 0.4: 0},\n",
        "    'He+': {1.4: 0.301, 1.2: 0.301, 1.0: 0.301, 0.8: 0.301, 0.6: 0.301, 0.4: 0.301},\n",
        "    'C': {1.4: 0.954, 1.2: 0.958, 1.0: 0.964, 0.8: 0.975, 0.6: 0.994, 0.4: 1.037},\n",
        "    'C+': {1.4: 0.771, 1.2: 0.772, 1.0: 0.773, 0.8: 0.774, 0.6: 0.775, 0.4: 0.782},\n",
        "    'Si': {1.4: 0.949, 1.2: 0.961, 1.0: 0.976, 0.8: 0.996, 0.6: 1.030, 0.4: 1.111},\n",
        "    'Si+': {1.4: 0.746, 1.2: 0.750, 1.0: 0.755, 0.8: 0.759, 0.6: 0.764, 0.4: 0.778},\n",
        "    'Fe': {1.4: 1.372, 1.2: 1.402, 1.0: 1.446, 0.8: 1.519, 0.6: 1.664, 0.4: 2.049},\n",
        "    'Fe+': {1.4: 1.575, 1.2: 1.604, 1.0: 1.638, 0.8: 1.682, 0.6: 1.749, 0.4: 1.881},\n",
        "    'Mg': {1.4: 0.001, 1.2: 0.002, 1.0: 0.007, 0.8: 0.027, 0.6: 0.110, 0.4: 0.478},\n",
        "    'Mg+': {1.4: 0.301, 1.2: 0.301, 1.0: 0.301, 0.8: 0.301, 0.6: 0.304, 0.4: 0.326},\n",
        "    'Ni': {1.4: 1.447, 1.2: 1.467, 1.0: 1.490, 0.8: 1.521, 0.6: 1.577, 0.4: 1.753},\n",
        "    'Ni+': {1.4: 0.953, 1.2: 0.988, 1.0: 1.037, 0.8: 1.108, 0.6: 1.215, 0.4: 1.386},\n",
        "    'Cr': {1.4: 0.917, 1.2: 0.956, 1.0: 1.022, 0.8: 1.141, 0.6: 1.380, 0.4: 1.977},\n",
        "    'Cr+': {1.4: 0.793, 1.2: 0.813, 1.0: 0.856, 0.8: 0.944, 0.6: 1.125, 0.4: 1.489},\n",
        "    'Ca': {1.4: 0.010, 1.2: 0.028, 1.0: 0.073, 0.8: 0.181, 0.6: 0.465, 0.4: 1.332},\n",
        "    'Ca+': {1.4: 0.309, 1.2: 0.320, 1.0: 0.344, 0.8: 0.391, 0.6: 0.483, 0.4: 0.658},\n",
        "    'K': {1.4: 0.308, 1.2: 0.320, 1.0: 0.351, 0.8: 0.429, 0.6: 0.642, 0.4: 1.329},\n",
        "    'K+': {1.4: 0.000, 1.2: 0.000, 1.0: 0.000, 0.8: 0.000, 0.6: 0.000, 0.4: 0.000},\n",
        "    'Na': {1.4: 0.307, 1.2: 0.309, 1.0: 0.320, 0.8: 0.357, 0.6: 0.493, 0.4: 1.043},\n",
        "    'Na+': {1.4: 0.000, 1.2: 0.000, 1.0: 0.000, 0.8: 0.000, 0.6: 0.000, 0.4: 0.000},\n",
        "}\n",
        "\n",
        "\n",
        "ionization_potential = {\n",
        "    'H': 13.598,\n",
        "    'H-': 0.754,\n",
        "    'He': 24.587,\n",
        "    'C': 11.260,\n",
        "    'Si': 8.152,\n",
        "    'Fe': 7.902,\n",
        "    'Mg': 7.646,\n",
        "    'Ni': 7.640,\n",
        "    'Cr': 6.767,\n",
        "    'Ca': 6.113,\n",
        "    'K': 4.341,\n",
        "    'Na': 5.139\n",
        "}\n",
        "\n",
        "abundance = {\n",
        "    'H': 1.00 * 10 ** 0,\n",
        "    'He': 8.51 * 10 ** (-2),\n",
        "    'C': 3.31 * 10 ** (-4),\n",
        "    'Si': 3.55 * 10 ** (-5),\n",
        "    'Fe': 2.75 * 10 ** (-5),\n",
        "    'Mg': 3.80 * 10 ** (-5),\n",
        "    'Ni': 1.78 * 10 ** (-6),\n",
        "    'Cr': 4.68 * 10 ** (-7),\n",
        "    'Ca': 2.29 * 10 ** (-6),\n",
        "    'K': 1.32 * 10 ** (-7),\n",
        "    'Na': 2.14 * 10 ** (-6)\n",
        "}\n",
        "\n",
        "atomic_weight = {\n",
        "    'H': 1.67 * 10 ** (-24),\n",
        "    'He': 6.64 * 10 ** (-24),\n",
        "    'C': 1.99 * 10 ** (-23),\n",
        "    'Si': 4.66 * 10 ** (-23),\n",
        "    'Fe': 9.27 * 10 ** (-23),\n",
        "    'Mg': 4.03 * 10 ** (-23),\n",
        "    'Ni': 9.74 * 10 ** (-23),\n",
        "    'Cr': 8.63 * 10 ** (-23),\n",
        "    'Ca': 6.65 * 10 ** (-23),\n",
        "    'K': 6.49 * 10 ** (-23),\n",
        "    'Na': 3.81 * 10 ** (-23)\n",
        "}\n",
        "\n"
      ],
      "metadata": {
        "id": "TeL32ET3gNFo"
      },
      "execution_count": null,
      "outputs": []
    },
    {
      "cell_type": "markdown",
      "source": [
        "## A function to get the partition function for theta values in between the values given in Gray's book."
      ],
      "metadata": {
        "id": "9-4NSZN2onuq"
      }
    },
    {
      "cell_type": "code",
      "source": [
        "def get_partition_fn(element, theta):\n",
        "  if theta <= 1.4 and theta >= 1.2:\n",
        "    return ((10 ** log_partition_fn[element][1.4]) + (10 ** log_partition_fn[element][1.2])) / 2\n",
        "  elif theta < 1.2 and theta >= 1.0:\n",
        "    return ((10 ** log_partition_fn[element][1.2])  + (10 ** log_partition_fn[element][1.0])) / 2\n",
        "  elif theta < 1.0 and theta >= 0.8:\n",
        "    return ((10 ** log_partition_fn[element][1.0]) + (10 ** log_partition_fn[element][0.8])) / 2\n",
        "  elif theta < 0.8 and theta >= 0.6:\n",
        "    return ((10 ** log_partition_fn[element][0.8]) + (10 ** log_partition_fn[element][0.6])) / 2\n",
        "  elif theta < 0.6 and theta >= 0.4:\n",
        "    return ((10 ** log_partition_fn[element][0.6]) + (10 ** log_partition_fn[element][0.4])) / 2\n"
      ],
      "metadata": {
        "id": "B8I9qSOBhOM9"
      },
      "execution_count": null,
      "outputs": []
    },
    {
      "cell_type": "markdown",
      "source": [
        "## Because the equation has P$_e$ on both sides it can't be solved in a classical manner. We guess for a value of P$_e$ and iterate the equaiton multiple times by replacing the old guess with the calculated value to get a good value for P$_e$ for each point in the grid."
      ],
      "metadata": {
        "id": "LXOU4WfJoxXg"
      }
    },
    {
      "cell_type": "code",
      "source": [
        "P_es = []\n",
        "\n",
        "for i in range(len(temps)):\n",
        "  P_guess = 1000\n",
        "  num = 0 # numerator\n",
        "  den = 0 # denominator\n",
        "  \n",
        "  # print(theta)\n",
        "  for element in abundance.keys():\n",
        "    for _ in range(1000):\n",
        "      theta = 5040 / temps[i]\n",
        "      partition_fn_ionized = get_partition_fn(element + '+', theta)\n",
        "      partition_fn = get_partition_fn(element, theta)\n",
        "      \n",
        "      phi_element = 0.6665 * partition_fn_ionized * temps[i] ** (5/2) * 10 ** (-1 * theta * ionization_potential[element]) / partition_fn\n",
        "\n",
        "      \n",
        "      num = num + abundance[element] * (phi_element / P_guess) / (1 + (phi_element / P_guess))\n",
        "      den = den + abundance[element] * (1 + ((phi_element / P_guess) / (1 + phi_element / P_guess)))\n",
        "  \n",
        "\n",
        "      P_e = P_g[i] * num / den\n",
        "      P_guess = P_e\n",
        "      \n",
        "  P_es.append(P_e)"
      ],
      "metadata": {
        "id": "HlJVsha-RacB"
      },
      "execution_count": null,
      "outputs": []
    },
    {
      "cell_type": "markdown",
      "source": [
        "##Calculate the number density of e$^-$"
      ],
      "metadata": {
        "id": "PUgqE1F9p3-7"
      }
    },
    {
      "cell_type": "code",
      "source": [
        "N_e = [P_es[i] / (K * temps[i]) for i in range(len(temps))]\n",
        "log_N_e = [math.log10(n) for n in N_e]"
      ],
      "metadata": {
        "id": "tT7MQveueDL4"
      },
      "execution_count": null,
      "outputs": []
    },
    {
      "cell_type": "markdown",
      "source": [
        "## Now that we have the electron pressures at each point in the grid we can find the total number density using (P$_g$ - P$_e$) / KT. "
      ],
      "metadata": {
        "id": "DDLfirxeqBQr"
      }
    },
    {
      "cell_type": "code",
      "source": [
        "N_tot = [(P_g[i] - P_es[i]) /  (K * temps[i]) for i in range(len(temps))]\n",
        "log_N_tot = [math.log10(n) for n in N_tot]"
      ],
      "metadata": {
        "id": "uMCOlLvko-bj"
      },
      "execution_count": null,
      "outputs": []
    },
    {
      "cell_type": "markdown",
      "source": [
        "## Number density of Hydrogen is basically the total number density divided by the sum of the abundances (the definition of abundance)."
      ],
      "metadata": {
        "id": "SCd4-0OcrM_q"
      }
    },
    {
      "cell_type": "code",
      "source": [
        "total_abundance = 0\n",
        "for element in abundance.keys():\n",
        "  total_abundance = total_abundance + abundance[element]\n",
        "N_H = [N_tot[i] / total_abundance for i in range(len(N_tot))]"
      ],
      "metadata": {
        "id": "bSXNfPp7pM-3"
      },
      "execution_count": null,
      "outputs": []
    },
    {
      "cell_type": "markdown",
      "source": [
        "## The ion density is the abundance times N$_H$ at that temp."
      ],
      "metadata": {
        "id": "juGzRrMUrYYA"
      }
    },
    {
      "cell_type": "code",
      "source": [
        "N_element = {}\n",
        "for element in abundance:\n",
        "  number_density = []\n",
        "  for i in range(len(temps)):\n",
        "    N = abundance[element] * N_H[i]\n",
        "    number_density.append(N)\n",
        "  N_element[element] = number_density"
      ],
      "metadata": {
        "id": "qRyI5u4lpQdy"
      },
      "execution_count": null,
      "outputs": []
    },
    {
      "cell_type": "markdown",
      "source": [
        "## We also have to include H$^-$ which we will get from the Saha Eq."
      ],
      "metadata": {
        "id": "UQu8j82kr1b0"
      }
    },
    {
      "cell_type": "code",
      "source": [
        "N_H_minus = []\n",
        "for i in range(len(temps)):\n",
        "  theta = 5040 / temps[i]\n",
        "  phi_H_minus = 0.6665 * get_partition_fn('H', theta) / get_partition_fn('H-', theta) \\\n",
        "  * 2 * temps[i] ** (5/2) * 10 ** (-1 * theta * ionization_potential['H-'])\n",
        "  N_H_minus.append(N_H[i] * P_es[i] / phi_H_minus)\n",
        "log_N_H_minus = [math.log10(n) for n in N_H_minus]"
      ],
      "metadata": {
        "id": "Bv9M_828pVhQ"
      },
      "execution_count": null,
      "outputs": []
    },
    {
      "cell_type": "markdown",
      "source": [
        "##Now to compute the Na I D line at 5890 A$^o$, we need the broading coefficients"
      ],
      "metadata": {
        "id": "jR1t0G4DqA-i"
      }
    },
    {
      "cell_type": "code",
      "source": [
        "log_C_4 = -15.17\n",
        "log_C_6 = -31.7\n",
        "log_gamma_nat = 7.9\n",
        "gamma_nat = 10 ** log_gamma_nat\n",
        "log_P_e = [math.log10(P_es[i]) for i in range(len(temps))]\n",
        "log_P_g = [math.log10(P_g[i]) for i in range(len(temps))]\n",
        "wavelength = 5890\n",
        "mu_Na = 23\n",
        "doppler_width = [4.301 * 10 ** (-7) * wavelength * (temp / mu_Na) for temp in temps]\n",
        "f = 0.6546\n",
        "delta_wavelength = 0.1\n",
        "wavelengths = np.arange(5885, 5895, 0.1)\n",
        "log_gamma_4 = []\n",
        "log_gamma_6 = []\n",
        "wavelength_cgs = wavelength * 10 ** (-8)\n",
        "R_cgs = 1.0968 * 10 ** (-3)\n",
        "h_cgs = 6.626 * 10 ** (-27)\n",
        "alpha_0 = 1.0449 * 10 ** (-26)\n",
        "for i in range(len(temps)):\n",
        "  log_gamma_4.append(19 + (2 / 3) * log_C_4 + log_P_e[i] - (5 / 6) * math.log10(temps[i]))\n",
        "  log_gamma_6.append(19.6 + 0.4 * log_C_6 + log_P_g[i] - 0.7 * math.log10(temps[i]))"
      ],
      "metadata": {
        "id": "rLY0szCCp5Dz"
      },
      "execution_count": null,
      "outputs": []
    },
    {
      "cell_type": "code",
      "source": [
        "gamma_4 = [10 ** gamma for gamma in log_gamma_4]\n",
        "gamma_6 = [10 ** gamma for gamma in log_gamma_6]\n",
        "\n",
        "gamma = [gamma_nat + gamma_4[i] + gamma_6[i] for i in range(len(temps))]\n",
        "plt.figure(figsize=[15, 10])\n",
        "plt.plot(temps, gamma)\n",
        "plt.title('$\\gamma$ vs Temperature for $log(g)=4.44$')\n",
        "plt.xlabel('Temperature')\n",
        "plt.ylabel('$\\gamma$')"
      ],
      "metadata": {
        "colab": {
          "base_uri": "https://localhost:8080/",
          "height": 641
        },
        "id": "5iExkX6gqzjC",
        "outputId": "f61cc07a-78c4-4f35-ac94-b6de4012bea1"
      },
      "execution_count": null,
      "outputs": [
        {
          "output_type": "execute_result",
          "data": {
            "text/plain": [
              "Text(0, 0.5, '$\\\\gamma$')"
            ]
          },
          "metadata": {},
          "execution_count": 320
        },
        {
          "output_type": "display_data",
          "data": {
            "text/plain": [
              "<Figure size 1080x720 with 1 Axes>"
            ],
            "image/png": "[encoded data removed]"
          },
          "metadata": {
            "needs_background": "light"
          }
        }
      ]
    },
    {
      "cell_type": "markdown",
      "source": [
        "The value of γ seems to be correct because it should increase with temperature because the Pressures increase with temperature"
      ],
      "metadata": {
        "id": "cFMCXVEB-2zL"
      }
    },
    {
      "cell_type": "markdown",
      "source": [
        "## To find the line coefficient we need the Hjerting function at each wavelength and temperature"
      ],
      "metadata": {
        "id": "TuinI9McrGd9"
      }
    },
    {
      "cell_type": "code",
      "source": [
        "H = []\n",
        "\n",
        "for w in wavelengths:\n",
        "  H_small = []\n",
        "  for i in range(len(temps)):\n",
        "    doppler_width = 4.301 * 10 ** (-7) * wavelength * ((temps[i] / mu_Na) ** 0.5)\n",
        "    a = 2.65 * 10 ** (-20) * gamma[i] * w ** 2 / doppler_width\n",
        "    u = (w - wavelength) / doppler_width\n",
        "    H_small.append(hjert(u, a))\n",
        "  H.append(H_small)\n",
        "H = np.array(H)\n",
        "plt.figure(figsize=[15, 10])\n",
        "plt.plot(wavelengths, H[:, 45])\n",
        "plt.title('H(u, a) vs $\\lambda$ at $log(g)=4.44$ and approx. Solar T$_{eff}$')\n",
        "plt.xlabel('$\\lambda$')\n",
        "plt.ylabel('H(u, a)')"
      ],
      "metadata": {
        "colab": {
          "base_uri": "https://localhost:8080/",
          "height": 643
        },
        "id": "IhZT1GQkrMq0",
        "outputId": "0ab2e29b-1935-4a57-ac1d-0ec114dfd43b"
      },
      "execution_count": null,
      "outputs": [
        {
          "output_type": "execute_result",
          "data": {
            "text/plain": [
              "Text(0, 0.5, 'H(u, a)')"
            ]
          },
          "metadata": {},
          "execution_count": 321
        },
        {
          "output_type": "display_data",
          "data": {
            "text/plain": [
              "<Figure size 1080x720 with 1 Axes>"
            ],
            "image/png": "[encoded data removed]"
          },
          "metadata": {
            "needs_background": "light"
          }
        }
      ]
    },
    {
      "cell_type": "markdown",
      "source": [
        "This is expected of the Hjerting Function, that it should peak at the central line because of the value of Δλ in the u would be 0"
      ],
      "metadata": {
        "id": "6FDH-80k_C8v"
      }
    },
    {
      "cell_type": "markdown",
      "source": [
        "##Now we can compute the line coefficient using the equation l$_{λ}$ = 4.995 * 10 $^{-21}$ * λ$_{0}^{2}$ * f * N * H(u, a) * (1 - 10$^{-χθ}$) / (ΣA$_{i}$μ${i}$ * N$_{E}$ * Δλ$_{D}$) at each wavelength and temperature"
      ],
      "metadata": {
        "id": "BFbgalYDroBs"
      }
    },
    {
      "cell_type": "code",
      "source": [
        "h = 6.62 * 10 ** (-27)\n",
        "c = 2.99 * 10 ** (10)\n",
        "g_Na_1 = 2 #?\n",
        "sum_weights = 0\n",
        "for element in abundance.keys():\n",
        "  sum_weights = sum_weights + abundance[element] * atomic_weight[element]\n",
        "l = []\n",
        "for i in range(len(wavelengths)):\n",
        "  l_w = []\n",
        "  for j in range(len(temps)):\n",
        "    theta = 5040 / temps[j]\n",
        "    phi = 0.6665 * get_partition_fn('Na', theta) / get_partition_fn('Na' + '+', theta) \\\n",
        "      * temps[j] ** (5/2) * 10 ** (-1 * theta * ionization_potential['Na'])\n",
        "    N_neutral = N_element['Na'][j] / (1 + phi / P_es[j])\n",
        "    chi = 1.24 * 10 ** 4 / wavelengths[i]\n",
        "    N_ground = N_neutral * g_Na_1 / get_partition_fn('Na', theta)\n",
        "    doppler_width = 4.301 * 10 ** (-7) * wavelength * ((temps[j] / mu_Na) ** 0.5)\n",
        "    l_w.append(4.995 * 10 ** (-21) * wavelength ** 2 * abundance['Na'] * f * N_ground * H[i][j] * (1 - 10 ** (-chi * theta)) / \\\n",
        "              (sum_weights * N_element['Na'][j] * doppler_width))\n",
        "  l.append(l_w)\n",
        "l = np.array(l)\n",
        "plt.figure(figsize=[15, 10])\n",
        "plt.plot(wavelengths, l[:, 44])\n",
        "plt.xlabel('$\\lambda$')\n",
        "plt.ylabel('l$_{\\lambda}$')\n",
        "plt.title('l$_{\\lambda}$ vs $\\lambda$ at approx. Solar T$_{eff}$ and $log(g)=4.44$')"
      ],
      "metadata": {
        "colab": {
          "base_uri": "https://localhost:8080/",
          "height": 643
        },
        "id": "PeIi33BVsmdP",
        "outputId": "3d4dfbcd-7465-4591-90c1-acb328727b6f"
      },
      "execution_count": null,
      "outputs": [
        {
          "output_type": "execute_result",
          "data": {
            "text/plain": [
              "Text(0.5, 1.0, 'l$_{\\\\lambda}$ vs $\\\\lambda$ at approx. Solar T$_{eff}$ and $log(g)=4.44$')"
            ]
          },
          "metadata": {},
          "execution_count": 323
        },
        {
          "output_type": "display_data",
          "data": {
            "text/plain": [
              "<Figure size 1080x720 with 1 Axes>"
            ],
            "image/png": "[encoded data removed]"
          },
          "metadata": {
            "needs_background": "light"
          }
        }
      ]
    },
    {
      "cell_type": "markdown",
      "source": [
        "## Calculate the 𝜿$_{ν}$ for Neutral Hydrogen Bound Free\n",
        "\n"
      ],
      "metadata": {
        "id": "zTzg8Me3s5nq"
      }
    },
    {
      "cell_type": "code",
      "source": [
        "# H bound-free from n=3, 4, and 5\n",
        "# not calculating for n = 2 because the photon required for ionization would be in the <3000 Angstorms wavelength\n",
        "g_bfs = []\n",
        "\n",
        "\n",
        "k_H_bf = []\n",
        "for w in wavelengths:\n",
        "  k_H_bf_small = []\n",
        "  for temp in temps:\n",
        "    s = 0\n",
        "    theta = 5040 / temp\n",
        "    for n in range(3, 6):\n",
        "      x = (w * R_cgs / n ** 2) - 0.5\n",
        "      y = 0.3456 / ((w * R_cgs) ** (1/3))\n",
        "      g_bf = 1 - x * y\n",
        "      khi = 13.6 * (1 - (1/n ** 2))\n",
        "      s = s + w ** 3 * g_bf * 10 ** (-theta * khi) / n ** 3\n",
        "    k_H_bf_small.append(s * alpha_0)\n",
        "  k_H_bf.append(k_H_bf_small)"
      ],
      "metadata": {
        "id": "CDdkBQXEs5Dc"
      },
      "execution_count": null,
      "outputs": []
    },
    {
      "cell_type": "markdown",
      "source": [
        "## Calculate the 𝜿$_{ν}$ for H$^-$ Bound Free"
      ],
      "metadata": {
        "id": "_vadECr8teAr"
      }
    },
    {
      "cell_type": "code",
      "source": [
        "# H- bound-free\n",
        "\n",
        "a_0 = 1.99654\n",
        "a_1 = -1.18267 * 10 ** (-5)\n",
        "a_2 = 2.64243 * 10 ** (-6)\n",
        "a_3 = -4.40524 * 10 ** (-10)\n",
        "a_4 = 3.23992 * 10 ** (-14)\n",
        "a_5 = -1.39568 * 10 ** (-18)\n",
        "a_6 = 2.78701 * 10 ** (-23)\n",
        "\n",
        "\n",
        "k_H_minus_bf =[]\n",
        "for w in wavelengths:\n",
        "  alpha_bf = a_0 + (a_1 * w) + (a_2 * w ** 2) + (a_3 * w ** 3) + (a_4 * w ** 4) + (a_5 * w ** 5) + (a_6 * w ** 6)\n",
        "  k_H_minus_bf_small = []\n",
        "  for i in range(len(temps)):\n",
        "    theta = 5040 / temps[i]\n",
        "    k_H_minus_bf_small.append(4.158 * 10 ** (-10) * alpha_bf * P_es[i] * theta ** (5/2) * 10 ** (0.754 * theta) * 10 ** (-18))\n",
        "  k_H_minus_bf.append(k_H_minus_bf_small)"
      ],
      "metadata": {
        "id": "IaWGA-lStnQi"
      },
      "execution_count": null,
      "outputs": []
    },
    {
      "cell_type": "markdown",
      "source": [
        "## Calculate the 𝜿$_{ν}$ for H$^-$ Free-Free"
      ],
      "metadata": {
        "id": "YOz_HXNktqKs"
      }
    },
    {
      "cell_type": "code",
      "source": [
        "# H- free-free\n",
        "k_H_minus_ff = []\n",
        "for w in wavelengths:\n",
        "  f_0 = -2.2763 - 1.6850 * math.log(w, 10) + 0.76661 * math.log(w, 10) ** 2 - 0.053346 * math.log(w, 10) ** 3\n",
        "  f_1 = 15.2827 - 9.2846 * math.log(w, 10) + 1.99381 * math.log(w, 10) ** 2 - 0.142631 * math.log(w, 10) ** 3\n",
        "  f_2 = -197.789 + 190.266 * math.log(w, 10) - 67.9775 * math.log(w, 10) ** 2 + 10.6913 * math.log(w, 10) ** 3 - 0.625151 * math.log(w, 10) ** 4\n",
        "  k_H_minus_ff_small = []\n",
        "  for i in range(len(temps)):\n",
        "    theta = 5040 / temps[i]\n",
        "    k_H_minus_ff_small.append(10 ** (-26) * P_es[i] * 10 ** (f_0 + f_1 * math.log(theta, 10) + f_2 * math.log(theta, 10) ** 2))\n",
        "  k_H_minus_ff.append(k_H_minus_ff_small)"
      ],
      "metadata": {
        "id": "mLhouU1Ztp4e"
      },
      "execution_count": null,
      "outputs": []
    },
    {
      "cell_type": "markdown",
      "source": [
        "## Calculate the 𝜿$_{ν}$ for H$^-$ Electon scattering"
      ],
      "metadata": {
        "id": "FL0__s2stwFU"
      }
    },
    {
      "cell_type": "code",
      "source": [
        "# electron scattering\n",
        "alpha_e = 0.6648 * 10 ** (-24)\n",
        "sum_abundances = 0\n",
        "for element in abundance.keys():\n",
        "  sum_abundances = sum_abundances + abundance[element]\n",
        "k_e = []\n",
        "for w in wavelengths:\n",
        "  k_e_small = []\n",
        "  for i in range(len(temps)):\n",
        "    k_e_small.append(alpha_e * P_es[i] * sum_abundances / (P_g[i] - P_es[i]))\n",
        "  k_e.append(k_e_small)"
      ],
      "metadata": {
        "id": "2Wqd_COJt2Uy"
      },
      "execution_count": null,
      "outputs": []
    },
    {
      "cell_type": "markdown",
      "source": [
        "##Add them up to get the final 𝜅$_ν$"
      ],
      "metadata": {
        "id": "gERpd2Pjt47r"
      }
    },
    {
      "cell_type": "code",
      "source": [
        "k_total = []\n",
        "for i in range(len(wavelengths)):\n",
        "  k_total_small = []\n",
        "  for j in range(len(temps)):\n",
        "    k_total_small.append((k_H_bf[i][j] + k_H_minus_bf[i][j] + k_H_minus_ff[i][j] + k_e[i][j]) / (1.66 * 10 ** -24))\n",
        "  k_total.append(np.array(k_total_small))\n",
        "k_total = np.array(k_total)"
      ],
      "metadata": {
        "id": "5ldqB6bLt_JD"
      },
      "execution_count": null,
      "outputs": []
    },
    {
      "cell_type": "markdown",
      "source": [
        "## Exponent integral function"
      ],
      "metadata": {
        "id": "AfjuxDHbuKiK"
      }
    },
    {
      "cell_type": "code",
      "source": [
        "def expo_integrand(t, n, tau):\n",
        "  return np.exp(-tau*t) / t**n\n",
        "\n",
        "def get_expo_fn(n, tau):\n",
        "  return quad(expo_integrand, 1, np.inf, args=(n, tau))[0]"
      ],
      "metadata": {
        "id": "kaa8ZzNTuNFs"
      },
      "execution_count": null,
      "outputs": []
    },
    {
      "cell_type": "markdown",
      "source": [
        "## Now we can compute the flux ratio"
      ],
      "metadata": {
        "id": "7Js9DRYwuOb3"
      }
    },
    {
      "cell_type": "markdown",
      "source": [
        "The optical depth of the continumm would be τ$_c$ = 𝜅$_{\\nu}$ρx, where ρx is the mass column at that depth and the optical depth for the line would be τ$_{l+c}$=(𝜅$_\\nu$+l$_\\nu$)ρx. F$_{λ}$=∫B$_ν$(T)E$_2$(τ$_{l+c}$)dτ$_{l+c}$ and F$_{c}$=∫B$_ν$(T)E$_2$(τ$_{c}$)dτ$_{c}$, where dτ$_{l+c}$ = (𝜅$_\\nu$+l$_\\nu$)ρdx and dτ$_c$ = 𝜅$_{\\nu}$ρdx where ρdx is the difference in mass columns"
      ],
      "metadata": {
        "id": "9xlEpiITEi47"
      }
    },
    {
      "cell_type": "code",
      "source": [
        "import scipy.special as sc\n",
        "f_l = []\n",
        "f_c = []\n",
        "frac = []\n",
        "tau_line = []\n",
        "tau_cont = []\n",
        "for i in range(len(wavelengths)):\n",
        "  sum_l = 0\n",
        "  sum_c = 0\n",
        "  for j in range(len(temps)):\n",
        "    numerator = (2 * h * c ** 2) / ((wavelengths[i] * 10 ** -8) ** 5)\n",
        "    denominator = math.exp((h * c) / ((wavelengths[i] * 10 ** -8) * K * temps[j])) - 1\n",
        "    source_fn = numerator / denominator\n",
        "    tau_l = (l[i][j] + k_total[i][j]) * masses[j] / 10\n",
        "    tau_c = k_total[i][j] * masses[j] / 10\n",
        "    tau_cont.append(tau_c)\n",
        "    tau_line.append(tau_l)\n",
        "    tau_prev_l = 0\n",
        "    tau_prev_c = 0\n",
        "    if j != 0:\n",
        "      tau_prev_l = (l[i][j - 1] + k_total[i][j - 1]) * masses[j - 1] / 10\n",
        "      tau_prev_c = k_total[i][j - 1] * masses[j - 1] / 10\n",
        "    del_tau_l = tau_l - tau_prev_l\n",
        "    del_tau_c = tau_c - tau_prev_c\n",
        "    expo_fn_l = sc.expn(2, tau_l)\n",
        "    expo_fn_c = sc.expn(2, tau_c)\n",
        "    #expo_fn_l = quad(expo_integrand, 1, np.inf, args=(2, tau_l))[0]\n",
        "    #expo_fn_c = quad(expo_integrand, 1, np.inf, args=(2, tau_c))[0]\n",
        "    sum_l = sum_l + (source_fn * expo_fn_l * del_tau_l)\n",
        "    sum_c = sum_c + (source_fn * expo_fn_c * del_tau_c)\n",
        "  f_l.append(sum_l)\n",
        "  #print(sum_l, sum_c)\n",
        "  f_c.append(sum_c)\n",
        "  frac.append(sum_l / sum_c)"
      ],
      "metadata": {
        "id": "C6oUjY-vuUgZ"
      },
      "execution_count": null,
      "outputs": []
    },
    {
      "cell_type": "code",
      "source": [
        "plt.figure(figsize=[15, 10])\n",
        "plt.plot(wavelengths, frac)\n",
        "plt.xlabel('$\\lambda$')\n",
        "plt.ylabel('F$_{\\lambda}$ / F$_{c}$')\n",
        "plt.title('Profile of Na I D line for star with $log(g)=4.44$')"
      ],
      "metadata": {
        "colab": {
          "base_uri": "https://localhost:8080/",
          "height": 643
        },
        "id": "R2xyKk995IdM",
        "outputId": "496a8118-e300-41fa-a323-3907be7aa78a"
      },
      "execution_count": null,
      "outputs": [
        {
          "output_type": "execute_result",
          "data": {
            "text/plain": [
              "Text(0.5, 1.0, 'Profile of Na I D line for star with $log(g)=4.44$')"
            ]
          },
          "metadata": {},
          "execution_count": 331
        },
        {
          "output_type": "display_data",
          "data": {
            "text/plain": [
              "<Figure size 1080x720 with 1 Axes>"
            ],
            "image/png": "[encoded data removed]"
          },
          "metadata": {
            "needs_background": "light"
          }
        }
      ]
    },
    {
      "cell_type": "markdown",
      "source": [
        "# b) Plotting the Na I D line for low gravity star"
      ],
      "metadata": {
        "id": "fjGA46k-xT2M"
      }
    },
    {
      "cell_type": "code",
      "source": [
        "log_g = 2.5\n",
        "metallicity = 0\n",
        "g = 10 ** log_g"
      ],
      "metadata": {
        "id": "Y157NPuDxloB"
      },
      "execution_count": null,
      "outputs": []
    },
    {
      "cell_type": "markdown",
      "source": [
        "## Calculating the P$_{g}$ and P$_{e}$ and the number densities"
      ],
      "metadata": {
        "id": "dO5Rm0xexy5c"
      }
    },
    {
      "cell_type": "code",
      "source": [
        "total_p = []\n",
        "radiation_p = []\n",
        "\n",
        "for mass in masses:\n",
        "  total_p.append(mass * g)\n",
        "\n",
        "for temp in temps:\n",
        "  radiation_p.append(2.52 * 10 ** (-15) * temp ** 4)\n",
        "\n",
        "P_g = [total_p[i] - radiation_p[i] for i in range(len(total_p))]\n",
        "\n",
        "P_es = []\n",
        "\n",
        "for i in range(len(temps)):\n",
        "  P_guess = 1000\n",
        "  num = 0 # numerator\n",
        "  den = 0 # denominator\n",
        "  \n",
        "  # print(theta)\n",
        "  for element in abundance.keys():\n",
        "    for _ in range(1000):\n",
        "      theta = 5040 / temps[i]\n",
        "      partition_fn_ionized = get_partition_fn(element + '+', theta)\n",
        "      partition_fn = get_partition_fn(element, theta)\n",
        "      \n",
        "      phi_element = 0.6665 * partition_fn_ionized * temps[i] ** (5/2) * 10 ** (-1 * theta * ionization_potential[element]) / partition_fn\n",
        "\n",
        "      \n",
        "      num = num + abundance[element] * (phi_element / P_guess) / (1 + (phi_element / P_guess))\n",
        "      den = den + abundance[element] * (1 + ((phi_element / P_guess) / (1 + phi_element / P_guess)))\n",
        "  \n",
        "\n",
        "      P_e = P_g[i] * num / den\n",
        "      P_guess = P_e\n",
        "      \n",
        "  P_es.append(P_e)"
      ],
      "metadata": {
        "id": "ohGxLsrDxtlx"
      },
      "execution_count": null,
      "outputs": []
    },
    {
      "cell_type": "code",
      "source": [
        "N_e = [P_es[i] / (K * temps[i]) for i in range(len(temps))]\n",
        "log_N_e = [math.log10(n) for n in N_e]\n",
        "N_tot = [(P_g[i] - P_es[i]) /  (K * temps[i]) for i in range(len(temps))]\n",
        "log_N_tot = [math.log10(n) for n in N_tot]\n",
        "total_abundance = 0\n",
        "for element in abundance.keys():\n",
        "  total_abundance = total_abundance + abundance[element]\n",
        "N_H = [N_tot[i] / total_abundance for i in range(len(N_tot))]\n",
        "log_N_H = [math.log10(n) for n in N_H]\n",
        "N_element = {}\n",
        "for element in abundance:\n",
        "  number_density = []\n",
        "  for i in range(len(temps)):\n",
        "    N = abundance[element] * N_H[i]\n",
        "    number_density.append(N)\n",
        "  N_element[element] = number_density\n",
        "N_neutral_Na = []\n",
        "for i in range(len(temps)):\n",
        "  theta = 5040 / temp\n",
        "  phi = 0.6665 * get_partition_fn('Na', theta) / get_partition_fn('Na' + '+', theta) \\\n",
        "        * temps[j] ** (5/2) * 10 ** (-1 * theta * ionization_potential['Na'])\n",
        "  N_neutral_Na.append(N_element['Na'][i] / (1 + phi / P_es[i]))"
      ],
      "metadata": {
        "id": "5sJ6CXWRyiUZ"
      },
      "execution_count": null,
      "outputs": []
    },
    {
      "cell_type": "markdown",
      "source": [
        "## Computing the gamma for the new low gravity star"
      ],
      "metadata": {
        "id": "UdS1lGS4yr-U"
      }
    },
    {
      "cell_type": "code",
      "source": [
        "log_C_4 = -15.17\n",
        "log_C_6 = -31.7\n",
        "log_gamma_nat = 7.9\n",
        "gamma_nat = 10 ** log_gamma_nat\n",
        "log_P_e = [math.log10(P_es[i]) for i in range(len(temps))]\n",
        "log_P_g = [math.log10(P_g[i]) for i in range(len(temps))]\n",
        "wavelength = 5890\n",
        "mu_Na = 23\n",
        "doppler_width = [4.301 * 10 ** (-7) * wavelength * (temp / mu_Na) for temp in temps]\n",
        "f = 0.6546\n",
        "delta_wavelength = 0.1\n",
        "wavelengths = np.arange(5885, 5895, 0.1)\n",
        "log_gamma_4 = []\n",
        "log_gamma_6 = []\n",
        "for i in range(len(temps)):\n",
        "  log_gamma_4.append(19 + (2 / 3) * log_C_4 + log_P_e[i] - (5 / 6) * math.log10(temps[i]))\n",
        "  log_gamma_6.append(19.6 + 0.4 * log_C_6 + log_P_g[i] - 0.7 * math.log10(temps[i]))\n",
        "\n",
        "gamma_4 = [10 ** gamma for gamma in log_gamma_4]\n",
        "gamma_6 = [10 ** gamma for gamma in log_gamma_6]\n",
        "\n",
        "gamma = [gamma_nat + gamma_4[i] + gamma_6[i] for i in range(len(temps))]\n",
        "plt.figure(figsize=[15, 10])\n",
        "plt.plot(temps, gamma)\n",
        "plt.title('$\\gamma$ vs Temperature for $log(g)=2.5$')\n",
        "plt.xlabel('Temperature')\n",
        "plt.ylabel('$\\gamma$')"
      ],
      "metadata": {
        "colab": {
          "base_uri": "https://localhost:8080/",
          "height": 641
        },
        "id": "frODsXsnywM1",
        "outputId": "fb879bc2-6989-47f6-f848-c227ba005c27"
      },
      "execution_count": null,
      "outputs": [
        {
          "output_type": "execute_result",
          "data": {
            "text/plain": [
              "Text(0, 0.5, '$\\\\gamma$')"
            ]
          },
          "metadata": {},
          "execution_count": 335
        },
        {
          "output_type": "display_data",
          "data": {
            "text/plain": [
              "<Figure size 1080x720 with 1 Axes>"
            ],
            "image/png": "[encoded data removed]"
          },
          "metadata": {
            "needs_background": "light"
          }
        }
      ]
    },
    {
      "cell_type": "markdown",
      "source": [
        "## Computing the Hjerting function for the low gravity atmosphere"
      ],
      "metadata": {
        "id": "9LTs1l1WzJVT"
      }
    },
    {
      "cell_type": "code",
      "source": [
        "H2 = []\n",
        "\n",
        "for w in wavelengths:\n",
        "  H_small = []\n",
        "  for i in range(len(temps)):\n",
        "    doppler_width = 4.301 * 10 ** (-7) * wavelength * ((temps[i] / mu_Na) ** 0.5)\n",
        "    a = 2.65 * 10 ** (-20) * gamma[i] * w ** 2 / doppler_width\n",
        "    u = (w - wavelength) / doppler_width\n",
        "    H_small.append(hjert(u, a))\n",
        "  H2.append(H_small)\n",
        "H2 = np.array(H)\n",
        "plt.figure(figsize=[15, 10])\n",
        "plt.plot(wavelengths, H2[:, 45])\n",
        "plt.xlabel('$\\lambda$')\n",
        "plt.ylabel('H(u, a)')\n",
        "plt.title('H(u, a) vs $\\lambda$ at $log(g)=2.5$ and approx. Solar T$_{eff}$')"
      ],
      "metadata": {
        "colab": {
          "base_uri": "https://localhost:8080/",
          "height": 643
        },
        "id": "ZYp4X_c_zPYh",
        "outputId": "a42ea9f6-d8d9-42c0-f6d2-ae31b7746327"
      },
      "execution_count": null,
      "outputs": [
        {
          "output_type": "execute_result",
          "data": {
            "text/plain": [
              "Text(0.5, 1.0, 'H(u, a) vs $\\\\lambda$ at $log(g)=2.5$ and approx. Solar T$_{eff}$')"
            ]
          },
          "metadata": {},
          "execution_count": 336
        },
        {
          "output_type": "display_data",
          "data": {
            "text/plain": [
              "<Figure size 1080x720 with 1 Axes>"
            ],
            "image/png": "[encoded data removed]"
          },
          "metadata": {
            "needs_background": "light"
          }
        }
      ]
    },
    {
      "cell_type": "markdown",
      "source": [
        "## Calculating l$_{ν}$"
      ],
      "metadata": {
        "id": "U-1F-JcWzSS1"
      }
    },
    {
      "cell_type": "code",
      "source": [
        "h = 6.62 * 10 ** (-27)\n",
        "c = 2.99 * 10 ** (10)\n",
        "g_Na_1 = 2\n",
        "sum_weights = 0\n",
        "for element in abundance.keys():\n",
        "  sum_weights = sum_weights + abundance[element] * atomic_weight[element]\n",
        "l_low_g = []\n",
        "for i in range(len(wavelengths)):\n",
        "  l_w = []\n",
        "  for j in range(len(temps)):\n",
        "    theta = 5040 / temps[j]\n",
        "    phi = 0.6665 * get_partition_fn('Na', theta) / get_partition_fn('Na' + '+', theta) \\\n",
        "      * temps[j] ** (5/2) * 10 ** (-1 * theta * ionization_potential['Na'])\n",
        "    N_neutral = N_element['Na'][j] / (1 + phi / P_es[j])\n",
        "    chi = 1.24 * 10 ** 4 / wavelengths[i]\n",
        "    N_ground = N_neutral * g_Na_1 / get_partition_fn('Na', theta)\n",
        "    doppler_width = 4.301 * 10 ** (-7) * wavelength * ((temps[j] / mu_Na) ** 0.5)\n",
        "    l_w.append(4.995 * 10 ** (-21) * wavelength ** 2 * abundance['Na'] * f * N_ground * H2[i][j] * (1 - 10 ** (-chi * theta)) / \\\n",
        "              (sum_weights * N_element['Na'][j] * doppler_width))\n",
        "  l_low_g.append(l_w)\n",
        "l_low_g = np.array(l)\n",
        "plt.figure(figsize=[15, 10])\n",
        "plt.plot(wavelengths, l_low_g[:, 45])\n",
        "plt.xlabel('$\\lambda$')\n",
        "plt.ylabel('l$_{\\lambda}$')\n",
        "plt.title('l$_{\\lambda}$ vs $\\lambda$ at $log(g)=2.5$ and approx. Solar T$_{eff}$')"
      ],
      "metadata": {
        "colab": {
          "base_uri": "https://localhost:8080/",
          "height": 643
        },
        "id": "OprsxlC4zXiX",
        "outputId": "d63dd0b0-a98c-4dab-d190-67b003ad3577"
      },
      "execution_count": null,
      "outputs": [
        {
          "output_type": "execute_result",
          "data": {
            "text/plain": [
              "Text(0.5, 1.0, 'l$_{\\\\lambda}$ vs $\\\\lambda$ at $log(g)=2.5$ and approx. Solar T$_{eff}$')"
            ]
          },
          "metadata": {},
          "execution_count": 337
        },
        {
          "output_type": "display_data",
          "data": {
            "text/plain": [
              "<Figure size 1080x720 with 1 Axes>"
            ],
            "image/png": "[encoded data removed]"
          },
          "metadata": {
            "needs_background": "light"
          }
        }
      ]
    },
    {
      "cell_type": "markdown",
      "source": [
        "## Calculating the continuous absorption coefficients"
      ],
      "metadata": {
        "id": "VevbFRi2zd9r"
      }
    },
    {
      "cell_type": "code",
      "source": [
        "# H- bound-free\n",
        "\n",
        "a_0 = 1.99654\n",
        "a_1 = -1.18267 * 10 ** (-5)\n",
        "a_2 = 2.64243 * 10 ** (-6)\n",
        "a_3 = -4.40524 * 10 ** (-10)\n",
        "a_4 = 3.23992 * 10 ** (-14)\n",
        "a_5 = -1.39568 * 10 ** (-18)\n",
        "a_6 = 2.78701 * 10 ** (-23)\n",
        "\n",
        "\n",
        "k_H_minus_bf =[]\n",
        "for w in wavelengths:\n",
        "  alpha_bf = a_0 + (a_1 * w) + (a_2 * w ** 2) + (a_3 * w ** 3) + (a_4 * w ** 4) + (a_5 * w ** 5) + (a_6 * w ** 6)\n",
        "  k_H_minus_bf_small = []\n",
        "  for i in range(len(temps)):\n",
        "    theta = 5040 / temps[i]\n",
        "    k_H_minus_bf_small.append(4.158 * 10 ** (-10) * alpha_bf * P_es[i] * theta ** (5/2) * 10 ** (0.754 * theta) * 10 ** (-18))\n",
        "  k_H_minus_bf.append(k_H_minus_bf_small)\n",
        "\n",
        "# H- free-free\n",
        "k_H_minus_ff = []\n",
        "for w in wavelengths:\n",
        "  f_0 = -2.2763 - 1.6850 * math.log(w, 10) + 0.76661 * math.log(w, 10) ** 2 - 0.053346 * math.log(w, 10) ** 3\n",
        "  f_1 = 15.2827 - 9.2846 * math.log(w, 10) + 1.99381 * math.log(w, 10) ** 2 - 0.142631 * math.log(w, 10) ** 3\n",
        "  f_2 = -197.789 + 190.266 * math.log(w, 10) - 67.9775 * math.log(w, 10) ** 2 + 10.6913 * math.log(w, 10) ** 3 - 0.625151 * math.log(w, 10) ** 4\n",
        "  k_H_minus_ff_small = []\n",
        "  for i in range(len(temps)):\n",
        "    theta = 5040 / temps[i]\n",
        "    k_H_minus_ff_small.append(10 ** (-26) * P_es[i] * 10 ** (f_0 + f_1 * math.log(theta, 10) + f_2 * math.log(theta, 10) ** 2))\n",
        "  k_H_minus_ff.append(k_H_minus_ff_small)\n",
        "\n",
        "# electron scattering\n",
        "alpha_e = 0.6648 * 10 ** (-24)\n",
        "sum_abundances = 0\n",
        "for element in abundance.keys():\n",
        "  sum_abundances = sum_abundances + abundance[element]\n",
        "k_e = []\n",
        "for w in wavelengths:\n",
        "  k_e_small = []\n",
        "  for i in range(len(temps)):\n",
        "    k_e_small.append(alpha_e * P_es[i] * sum_abundances / (P_g[i] - P_es[i]))\n",
        "  k_e.append(k_e_small)\n",
        "\n",
        "k_total_low_g = []\n",
        "for i in range(len(wavelengths)):\n",
        "  k_total_small = []\n",
        "  for j in range(len(temps)):\n",
        "    k_total_small.append((k_H_bf[i][j] + k_H_minus_bf[i][j] + k_H_minus_ff[i][j] + k_e[i][j]) / (1.66 * 10 ** -24))\n",
        "  k_total_low_g.append(np.array(k_total_small))\n",
        "k_total_low_g = np.array(k_total_low_g)\n",
        "# print(k_total_low_g[:, 44])"
      ],
      "metadata": {
        "id": "N42HRgzOzipy"
      },
      "execution_count": null,
      "outputs": []
    },
    {
      "cell_type": "markdown",
      "source": [
        "## Calculating the flux ratio"
      ],
      "metadata": {
        "id": "l2IKgzdWztJE"
      }
    },
    {
      "cell_type": "code",
      "source": [
        "import scipy.special as sc\n",
        "f_l_low_g = []\n",
        "f_c_low_g = []\n",
        "frac_low_g = []\n",
        "tau_line_low_g = []\n",
        "tau_cont_low_g = []\n",
        "for i in range(len(wavelengths)):\n",
        "  sum_l = 0\n",
        "  sum_c = 0\n",
        "  for j in range(len(temps)):\n",
        "    numerator = (2 * h * c ** 2) / ((wavelengths[i] * 10 ** -8) ** 5)\n",
        "    denominator = math.exp((h * c) / ((wavelengths[i] * 10 ** -8) * K * temps[j])) - 1\n",
        "    source_fn = numerator / denominator\n",
        "    tau_l = (l_low_g[i][j] + k_total_low_g[i][j]) * masses[j]\n",
        "    tau_c = k_total_low_g[i][j] * masses[j]\n",
        "    tau_prev_l = 0\n",
        "    tau_prev_c = 0\n",
        "    if j != 0:\n",
        "      tau_prev_l = (l_low_g[i][j - 1] + k_total_low_g[i][j - 1]) * masses[j - 1]\n",
        "      tau_prev_c = k_total_low_g[i][j - 1] * masses[j - 1]\n",
        "    del_tau_l = tau_l - tau_prev_l\n",
        "    del_tau_c = tau_c - tau_prev_c\n",
        "    expo_fn_l = sc.expn(2, tau_l)\n",
        "    expo_fn_c = sc.expn(2, tau_c)\n",
        "    #expo_fn_l = quad(expo_integrand, 1, np.inf, args=(2, tau_l))[0]\n",
        "    #expo_fn_c = quad(expo_integrand, 1, np.inf, args=(2, tau_c))[0]\n",
        "    sum_l = sum_l + (source_fn * expo_fn_l * del_tau_l)\n",
        "    sum_c = sum_c + (source_fn * expo_fn_c * del_tau_c)\n",
        "  f_l_low_g.append(sum_l)\n",
        "  f_c_low_g.append(sum_c)\n",
        "  frac_low_g.append(sum_l / sum_c)"
      ],
      "metadata": {
        "id": "-5rcKbxFzvy2"
      },
      "execution_count": null,
      "outputs": []
    },
    {
      "cell_type": "code",
      "source": [
        "plt.figure(figsize=[15, 10])\n",
        "plt.plot(wavelengths, frac_low_g)\n",
        "plt.ylabel('F$_{\\lambda}$ / F$_{c}$')\n",
        "plt.xlabel('$\\lambda$')\n",
        "plt.title('Flux profile of Na I D line for star with $log(g)=2.5$')"
      ],
      "metadata": {
        "colab": {
          "base_uri": "https://localhost:8080/",
          "height": 643
        },
        "id": "piRx1fhl6M7s",
        "outputId": "7f351d7e-e169-4204-9ad7-04044c4ff8d3"
      },
      "execution_count": null,
      "outputs": [
        {
          "output_type": "execute_result",
          "data": {
            "text/plain": [
              "Text(0.5, 1.0, 'Flux profile of Na I D line for star with $log(g)=2.5$')"
            ]
          },
          "metadata": {},
          "execution_count": 340
        },
        {
          "output_type": "display_data",
          "data": {
            "text/plain": [
              "<Figure size 1080x720 with 1 Axes>"
            ],
            "image/png": "[encoded data removed]"
          },
          "metadata": {
            "needs_background": "light"
          }
        }
      ]
    },
    {
      "cell_type": "code",
      "source": [
        "plt.figure(figsize=[15, 10])\n",
        "plt.plot(wavelengths, frac_low_g, c='g', label='$log(g)=2.5$')\n",
        "plt.plot(wavelengths, frac, c='r', label='$log(g)=4.44$')\n",
        "plt.ylabel('F$_{\\lambda}$ / F$_{c}$')\n",
        "plt.xlabel('$\\lambda$')\n",
        "plt.title('Flux profile of Na I D line')\n",
        "plt.legend()"
      ],
      "metadata": {
        "colab": {
          "base_uri": "https://localhost:8080/",
          "height": 642
        },
        "id": "oN0kqQg07EIi",
        "outputId": "2bfd1f35-b274-4779-ad56-c99bbf149f49"
      },
      "execution_count": null,
      "outputs": [
        {
          "output_type": "execute_result",
          "data": {
            "text/plain": [
              "<matplotlib.legend.Legend at 0x7f2d4ac92550>"
            ]
          },
          "metadata": {},
          "execution_count": 341
        },
        {
          "output_type": "display_data",
          "data": {
            "text/plain": [
              "<Figure size 1080x720 with 1 Axes>"
            ],
            "image/png": "[encoded data removed]"
          },
          "metadata": {
            "needs_background": "light"
          }
        }
      ]
    }
  ]
}